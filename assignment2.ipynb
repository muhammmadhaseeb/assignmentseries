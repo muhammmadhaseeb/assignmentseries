{
 "cells": [
  {
   "cell_type": "markdown",
   "id": "d25bf0e7-a93e-4508-8ecb-6363a24ea634",
   "metadata": {},
   "source": [
    "                                                   #Assignment 2"
   ]
  },
  {
   "cell_type": "markdown",
   "id": "04288e3d-8881-4e84-9a72-205670bbefbf",
   "metadata": {},
   "source": [
    "Q1.What are the two values of the Boolean data type? How do you write them?\n",
    "\n",
    "\n",
    "sol. There are two boolean operators. They are written as 'True' and 'False' (first letter of both operators capital)"
   ]
  },
  {
   "cell_type": "markdown",
   "id": "a8381d74-2387-40e1-bd93-78f38e6f19be",
   "metadata": {},
   "source": [
    "2.What are the three different types of Boolean operators?\n",
    "\n",
    "\n",
    "sol. 'and', 'or', 'not' \n"
   ]
  },
  {
   "cell_type": "markdown",
   "id": "bba95e76-d666-41d8-8335-703924d5f85b",
   "metadata": {},
   "source": [
    "3.Make a list of each Boolean operator's truth tables (i.e. every possible combination of Boolean\n",
    "values for the operator and what it evaluate )."
   ]
  },
  {
   "cell_type": "code",
   "execution_count": null,
   "id": "85f9f4b2-e293-4fd4-845c-5d67d25fc0c0",
   "metadata": {},
   "outputs": [],
   "source": [
    "\n",
    "   #Truth table of and operator:\n",
    "#True  and True  is True.\n",
    "#True  and False is False\n",
    "#False and True  is False.\n",
    "#False and False is False\n",
    "    #Truth table of not operator:\n",
    "    \n",
    "#not True  is False.\n",
    "#not False is True.\n",
    "    #Truth table of or operator:\n",
    "#True  or  True   is True.\n",
    "#True  or  False  is True.\n",
    "#False or  True   is True.\n",
    "#False or  False  is False."
   ]
  },
  {
   "cell_type": "markdown",
   "id": "ce9768b6-01f3-43d4-bc05-a0ff5b99becc",
   "metadata": {},
   "source": [
    "4.What are the values of the following expressions?"
   ]
  },
  {
   "cell_type": "code",
   "execution_count": 3,
   "id": "d2ea7747-1f9c-4f1d-bd58-f2250244bd3d",
   "metadata": {},
   "outputs": [
    {
     "data": {
      "text/plain": [
       "False"
      ]
     },
     "execution_count": 3,
     "metadata": {},
     "output_type": "execute_result"
    }
   ],
   "source": [
    "(5 > 4) and (3 == 5)"
   ]
  },
  {
   "cell_type": "code",
   "execution_count": 4,
   "id": "5d57cc9e-ba95-4c26-afd3-6380e3a77611",
   "metadata": {},
   "outputs": [
    {
     "data": {
      "text/plain": [
       "False"
      ]
     },
     "execution_count": 4,
     "metadata": {},
     "output_type": "execute_result"
    }
   ],
   "source": [
    "not (5 > 4)"
   ]
  },
  {
   "cell_type": "code",
   "execution_count": 5,
   "id": "1f3b31eb-cf20-4245-a648-bff7042bf3a0",
   "metadata": {},
   "outputs": [
    {
     "data": {
      "text/plain": [
       "True"
      ]
     },
     "execution_count": 5,
     "metadata": {},
     "output_type": "execute_result"
    }
   ],
   "source": [
    "(5 > 4) or (3 == 5)"
   ]
  },
  {
   "cell_type": "code",
   "execution_count": 6,
   "id": "5d2a1113-4aed-4782-bd22-96e28d2b05c4",
   "metadata": {},
   "outputs": [
    {
     "data": {
      "text/plain": [
       "False"
      ]
     },
     "execution_count": 6,
     "metadata": {},
     "output_type": "execute_result"
    }
   ],
   "source": [
    "not ((5 > 4) or (3 == 5))"
   ]
  },
  {
   "cell_type": "code",
   "execution_count": 7,
   "id": "bc76fec8-66e7-4bb2-b2bb-aec551a0363a",
   "metadata": {},
   "outputs": [
    {
     "data": {
      "text/plain": [
       "False"
      ]
     },
     "execution_count": 7,
     "metadata": {},
     "output_type": "execute_result"
    }
   ],
   "source": [
    "(True and True) and (True == False)"
   ]
  },
  {
   "cell_type": "code",
   "execution_count": 8,
   "id": "bd7f90fc-30bf-49e6-9c9e-61520c5e48c5",
   "metadata": {},
   "outputs": [
    {
     "data": {
      "text/plain": [
       "True"
      ]
     },
     "execution_count": 8,
     "metadata": {},
     "output_type": "execute_result"
    }
   ],
   "source": [
    "(not False) or (not True)"
   ]
  },
  {
   "cell_type": "markdown",
   "id": "208e2763-b3f7-4042-a4ac-7bef404512ef",
   "metadata": {},
   "source": [
    "5.What are the six comparison operators?\n",
    "\n",
    "sol. ==, >=, <=, <, >, !=."
   ]
  },
  {
   "cell_type": "markdown",
   "id": "37d850f0-c23a-4d3c-82b7-89932590d569",
   "metadata": {},
   "source": [
    "6.How do you tell the difference between the equal to and assignment operators?Describe a\n",
    "condition and when you would use one.\n",
    "\n",
    "sol. '=' is an assignment operator used to store value in a variable while as '==' is equal to operator that is used to compare two values.\n",
    "\n",
    "Condition is a logical expression that evaluates to a boolean value. conditions are typically used in conditional statements, such as if else to control flow of a program by executing specific blocks of code based on whether the condition is true or not. \n",
    "\n",
    "\n"
   ]
  },
  {
   "cell_type": "code",
   "execution_count": 3,
   "id": "2bca3265-618d-45a8-8e67-a98f5cb939da",
   "metadata": {},
   "outputs": [
    {
     "name": "stdin",
     "output_type": "stream",
     "text": [
      "Enter the number 6\n"
     ]
    },
    {
     "name": "stdout",
     "output_type": "stream",
     "text": [
      "false\n"
     ]
    }
   ],
   "source": [
    "#example of == operator and = operator:\n",
    "a = int(input(\"Enter the number\")) #Assigning user input value to variable a. \n",
    "if a == 10:        # here comparing value of a with 10 using \"==\"\n",
    "    print('True')\n",
    "else:\n",
    "    print('false')"
   ]
  },
  {
   "cell_type": "markdown",
   "id": "229bf6e5-bbf0-46a8-8da7-319c336cd571",
   "metadata": {},
   "source": [
    "7.Identify the three blocks in this code:\n",
    "\n",
    "\n",
    "spam = 0\n",
    "if spam == 10:\n",
    "print('eggs')\n",
    "if spam > 5:\n",
    "print('bacon')\n",
    "else:\n",
    "print('ham')\n",
    "print('spam')\n",
    "print(spam)"
   ]
  },
  {
   "cell_type": "code",
   "execution_count": 4,
   "id": "ecfeb104-1c9b-4f9a-8c68-7892098e96db",
   "metadata": {},
   "outputs": [],
   "source": [
    "# three blocks are everthing indented under the \"if\" and \"else\" statement:\n",
    "#Block 1:\n",
    "#if spam == 10:\n",
    "    #print('eggs')\n",
    "\n",
    "#block 2:\n",
    "#if spam > 5:\n",
    "    #print('bacon')\n",
    "\n",
    "#block 3:\n",
    "#else:\n",
    "    #print('ham')    \n",
    "    #print('spam')\n",
    "    #print(spam)\n"
   ]
  },
  {
   "cell_type": "code",
   "execution_count": 1,
   "id": "8db8eb5c-6bc5-4e2c-a4be-80788a13d403",
   "metadata": {},
   "outputs": [
    {
     "name": "stdout",
     "output_type": "stream",
     "text": [
      "ham\n",
      "spam\n",
      "spam\n"
     ]
    }
   ],
   "source": [
    "# three blocks are everthing indented under the \"if\" and \"else\" statement:\n",
    "#Block 1:\n",
    "spam = 0\n",
    "if spam == 10:\n",
    "    print('eggs')\n",
    "\n",
    "#block 2:\n",
    "if spam > 5:\n",
    "    print('bacon')\n",
    "\n",
    "#block 3:\n",
    "else:\n",
    "    print('ham')    \n",
    "    print('spam')\n",
    "    print('spam')\n",
    "\n",
    "\n"
   ]
  },
  {
   "cell_type": "markdown",
   "id": "7c969a84-ac8d-4b92-96e6-609f2d33fff8",
   "metadata": {},
   "source": [
    "8.Write code that prints Hello if 1 is stored in spam, prints Howdy if 2 is stored in spam, and prints\n",
    "Greetings! if anything else is stored in spam."
   ]
  },
  {
   "cell_type": "code",
   "execution_count": 12,
   "id": "76c025cc-1d7b-43c3-85c5-a1e0a0d92287",
   "metadata": {},
   "outputs": [
    {
     "name": "stdin",
     "output_type": "stream",
     "text": [
      "Enter the value 2\n"
     ]
    },
    {
     "name": "stdout",
     "output_type": "stream",
     "text": [
      "Howdy\n"
     ]
    }
   ],
   "source": [
    "spam = int(input(\"Enter the value\"))\n",
    "if spam == 1:\n",
    "    print(\"Hello\")\n",
    "elif spam == 2:\n",
    "    print(\"Howdy\")\n",
    "else:\n",
    "    print(\"Greetings!\")"
   ]
  },
  {
   "cell_type": "markdown",
   "id": "6de501cc-3a37-43ca-bdfa-e9eb25770669",
   "metadata": {},
   "source": [
    "9.If your programme is stuck in an endless loop, what keys you’ll press?\n",
    "\n",
    "sol. Ctrl + C"
   ]
  },
  {
   "cell_type": "markdown",
   "id": "c412f817-af9b-4a1e-8ac8-0954d2eb855f",
   "metadata": {},
   "source": [
    "10.How can you tell the difference between break and continue?\n",
    "\n",
    "\n",
    "sol. A break statement in python breaks or alters the flow of a loop by terminating it once a condition is met.\n",
    "The continue statement is used to skip the remaining code in the current iteration and move on to the next iteration of the loop."
   ]
  },
  {
   "cell_type": "code",
   "execution_count": 4,
   "id": "3e4989a8-7d3b-4090-9e5d-cf7b26cad618",
   "metadata": {},
   "outputs": [
    {
     "name": "stdout",
     "output_type": "stream",
     "text": [
      "1\n",
      "2\n",
      "3\n",
      "4\n",
      "5\n"
     ]
    }
   ],
   "source": [
    "a = 1\n",
    "b = 10\n",
    "while a<b:\n",
    "    print(a)\n",
    "    if a==5: # here break alters the flow of a loop when a particular condition is met\n",
    "        break\n",
    "    a+=1    "
   ]
  },
  {
   "cell_type": "code",
   "execution_count": 5,
   "id": "465261cc-9f91-4250-8912-0b155c4ec1b6",
   "metadata": {},
   "outputs": [
    {
     "name": "stdout",
     "output_type": "stream",
     "text": [
      "2\n",
      "3\n",
      "4\n",
      "6\n",
      "7\n",
      "8\n",
      "9\n",
      "10\n"
     ]
    }
   ],
   "source": [
    "a = 1\n",
    "b = 10\n",
    "while a<b:\n",
    "    a+=1 \n",
    "    if a==5:\n",
    "        continue # here 5 won't get printed as continue statement will move the execution to start of the loop when a condition is met.\n",
    "    print(a)    \n",
    "       \n",
    "        \n",
    "       \n",
    "        \n",
    "   "
   ]
  },
  {
   "cell_type": "markdown",
   "id": "90f60590-842a-4993-adae-d6cb7094c760",
   "metadata": {},
   "source": [
    "11.In a for loop, what is the difference between range(10), range(0, 10), and range(0, 10, 1)?\n",
    "\n",
    "\n",
    "sol. They all do the same thing. Range(10) calls range from lower limit (0) to (upper limit - 1).\n",
    "Range(0, 10) will again give the same output but here we have specified the lower limit.\n",
    "Range(0, 10, 1) will give same output but here we specify the loop to increase the value of variable by 1."
   ]
  },
  {
   "cell_type": "code",
   "execution_count": 1,
   "id": "671abb81-5609-42d4-862c-b8b3788cdb78",
   "metadata": {},
   "outputs": [
    {
     "name": "stdout",
     "output_type": "stream",
     "text": [
      "0\n",
      "1\n",
      "2\n",
      "3\n",
      "4\n",
      "5\n",
      "6\n",
      "7\n",
      "8\n",
      "9\n"
     ]
    }
   ],
   "source": [
    "for i in range(10):\n",
    "    print(i)"
   ]
  },
  {
   "cell_type": "code",
   "execution_count": 2,
   "id": "1bec710b-e716-4586-90fa-bbbcc4075021",
   "metadata": {},
   "outputs": [
    {
     "name": "stdout",
     "output_type": "stream",
     "text": [
      "0\n",
      "1\n",
      "2\n",
      "3\n",
      "4\n",
      "5\n",
      "6\n",
      "7\n",
      "8\n",
      "9\n"
     ]
    }
   ],
   "source": [
    "for i in range(0,10):\n",
    "    print(i)"
   ]
  },
  {
   "cell_type": "code",
   "execution_count": 3,
   "id": "4a6ff7f8-4d93-4bbf-95bf-5d6d830d03b9",
   "metadata": {},
   "outputs": [
    {
     "name": "stdout",
     "output_type": "stream",
     "text": [
      "0\n",
      "1\n",
      "2\n",
      "3\n",
      "4\n",
      "5\n",
      "6\n",
      "7\n",
      "8\n",
      "9\n"
     ]
    }
   ],
   "source": [
    "for i in range(0,10,1):\n",
    "    print(i)"
   ]
  },
  {
   "cell_type": "markdown",
   "id": "319f98dc-cd1d-41ec-831f-eadaedc6a19b",
   "metadata": {},
   "source": [
    "12.Write a short program that prints the numbers 1 to 10 using a for loop. Then write an equivalent\n",
    "program that prints the numbers 1 to 10 using a while loop."
   ]
  },
  {
   "cell_type": "code",
   "execution_count": 19,
   "id": "d1347c9b-df46-4328-887e-07c8987b241e",
   "metadata": {},
   "outputs": [
    {
     "name": "stdout",
     "output_type": "stream",
     "text": [
      "1\n",
      "2\n",
      "3\n",
      "4\n",
      "5\n",
      "6\n",
      "7\n",
      "8\n",
      "9\n",
      "10\n"
     ]
    }
   ],
   "source": [
    "n = 11\n",
    "for i in range(1, n):\n",
    "    print(i)"
   ]
  },
  {
   "cell_type": "code",
   "execution_count": 3,
   "id": "79d75c31-cef7-4581-a50c-b784d9f5402d",
   "metadata": {},
   "outputs": [
    {
     "name": "stdout",
     "output_type": "stream",
     "text": [
      "1\n",
      "2\n",
      "3\n",
      "4\n",
      "5\n",
      "6\n",
      "7\n",
      "8\n",
      "9\n",
      "10\n"
     ]
    }
   ],
   "source": [
    "n = 1\n",
    "while n <= 10:\n",
    "    print(n)\n",
    "    n+=1"
   ]
  },
  {
   "cell_type": "markdown",
   "id": "40458101-635c-42f1-a6df-427147aec3bd",
   "metadata": {},
   "source": [
    "13.If you had a function named bacon() inside a module named spam, how would you call it after\n",
    "importing spam?\n",
    "\n",
    "sol. Function can be called using spam.bacon()"
   ]
  },
  {
   "cell_type": "code",
   "execution_count": null,
   "id": "2a0438d8-999e-4110-a425-6a30f96fe06b",
   "metadata": {},
   "outputs": [],
   "source": []
  }
 ],
 "metadata": {
  "kernelspec": {
   "display_name": "Python 3 (ipykernel)",
   "language": "python",
   "name": "python3"
  },
  "language_info": {
   "codemirror_mode": {
    "name": "ipython",
    "version": 3
   },
   "file_extension": ".py",
   "mimetype": "text/x-python",
   "name": "python",
   "nbconvert_exporter": "python",
   "pygments_lexer": "ipython3",
   "version": "3.10.6"
  }
 },
 "nbformat": 4,
 "nbformat_minor": 5
}
