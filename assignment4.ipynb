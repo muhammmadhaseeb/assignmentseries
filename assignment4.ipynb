{
 "cells": [
  {
   "cell_type": "markdown",
   "id": "f006b05f-f47d-4170-9950-4a576291a609",
   "metadata": {},
   "source": [
    "                                                      Assignment 4"
   ]
  },
  {
   "cell_type": "markdown",
   "id": "6dd44865-f961-4585-a922-d2a10ca37b11",
   "metadata": {},
   "source": [
    "1.What exactly is []?\n",
    "\n",
    "sol. \"[]\" is an empty list literal. It represents a list data structure without any element present in it. Empty lists are used to store data dynamically, where data is added during execution of a program."
   ]
  },
  {
   "cell_type": "markdown",
   "id": "2771c239-b3bb-4553-9d62-997f8ae9777b",
   "metadata": {},
   "source": [
    "2.In a list of values stored in a variable called spam, how would you assign the value 'hello' as the\n",
    "third value? (Assume [2, 4, 6, 8, 10] are in spam.)\n",
    "\n",
    "sol. As index numbering starts from zero, so third value in given list will be 6. "
   ]
  },
  {
   "cell_type": "code",
   "execution_count": 4,
   "id": "2a67ab29-2044-4d61-99e1-7d26f3b3ee2d",
   "metadata": {},
   "outputs": [
    {
     "name": "stdout",
     "output_type": "stream",
     "text": [
      "[2, 4, 'hello', 8, 10]\n"
     ]
    }
   ],
   "source": [
    "#Replacing 3rd value with \"hello\"\n",
    "spam = [2, 4, 6, 8, 10]\n",
    "spam[2] = 'hello'\n",
    "print(spam)"
   ]
  },
  {
   "cell_type": "markdown",
   "id": "4dbfa5c5-8734-4053-b63a-c8d7a6f91230",
   "metadata": {},
   "source": [
    "Let's pretend the spam includes the list ['a', 'b', 'c', 'd'] for the next three queries."
   ]
  },
  {
   "cell_type": "markdown",
   "id": "6ecb74d3-f733-47c2-bdc4-2ca5c78491be",
   "metadata": {},
   "source": [
    "3.What is the value of spam[int(int('3' * 2) / 11)]?\n",
    "\n",
    "sol. Here string ('3') is multiplied with 2 so the answer will be 33 and coverted to int then divided by 11 to get 3 and then put in spam[] to get value  at index 3"
   ]
  },
  {
   "cell_type": "code",
   "execution_count": 9,
   "id": "d0da8f24-a611-4cee-8cc5-ec2a0f25c3fd",
   "metadata": {},
   "outputs": [
    {
     "data": {
      "text/plain": [
       "33"
      ]
     },
     "execution_count": 9,
     "metadata": {},
     "output_type": "execute_result"
    }
   ],
   "source": [
    "int('3'*2)"
   ]
  },
  {
   "cell_type": "code",
   "execution_count": 10,
   "id": "9ad71c1d-31e3-4659-b5b5-a95867de1652",
   "metadata": {},
   "outputs": [
    {
     "data": {
      "text/plain": [
       "3.0"
      ]
     },
     "execution_count": 10,
     "metadata": {},
     "output_type": "execute_result"
    }
   ],
   "source": [
    "int('3'*2)/11"
   ]
  },
  {
   "cell_type": "code",
   "execution_count": 12,
   "id": "a6778093-f02e-411d-8ab8-073e0fb9a821",
   "metadata": {},
   "outputs": [
    {
     "data": {
      "text/plain": [
       "'d'"
      ]
     },
     "execution_count": 12,
     "metadata": {},
     "output_type": "execute_result"
    }
   ],
   "source": [
    "spam[int(3)]"
   ]
  },
  {
   "cell_type": "code",
   "execution_count": 2,
   "id": "f103d11e-baaf-41d6-9920-e6f71321675c",
   "metadata": {},
   "outputs": [
    {
     "data": {
      "text/plain": [
       "'d'"
      ]
     },
     "execution_count": 2,
     "metadata": {},
     "output_type": "execute_result"
    }
   ],
   "source": [
    "spam = ['a', 'b', 'c', 'd']\n",
    "spam[int(int('3' * 2) / 11)]"
   ]
  },
  {
   "cell_type": "markdown",
   "id": "5c8b1d39-f9f4-4304-a7db-6b19f1d725f4",
   "metadata": {},
   "source": [
    "4.What is the value of spam[-1]?\n",
    "\n",
    "sol. Here we are giving negative index to get value from end."
   ]
  },
  {
   "cell_type": "code",
   "execution_count": 3,
   "id": "3a44fef1-a90a-4823-9cf0-d948ef41bb8c",
   "metadata": {},
   "outputs": [
    {
     "data": {
      "text/plain": [
       "'d'"
      ]
     },
     "execution_count": 3,
     "metadata": {},
     "output_type": "execute_result"
    }
   ],
   "source": [
    "spam[-1]"
   ]
  },
  {
   "cell_type": "markdown",
   "id": "7d597025-b231-44ac-9ff6-b2e08d764d6d",
   "metadata": {},
   "source": [
    "What is the value of spam[:2]?\n",
    "\n",
    "sol. here we are giving input to get values from list at index 0 and 1. "
   ]
  },
  {
   "cell_type": "code",
   "execution_count": 12,
   "id": "8a2f093a-89a9-4084-8e24-224e20cf1f0c",
   "metadata": {},
   "outputs": [
    {
     "data": {
      "text/plain": [
       "['a', 'b']"
      ]
     },
     "execution_count": 12,
     "metadata": {},
     "output_type": "execute_result"
    }
   ],
   "source": [
    "spam[:2]"
   ]
  },
  {
   "cell_type": "markdown",
   "id": "36a84f49-74f7-4bb2-9369-a8a2b40a735b",
   "metadata": {},
   "source": [
    "Let's pretend bacon has the list [3.14,'cat', 11, 'cat', 'True'] for the next three questions."
   ]
  },
  {
   "cell_type": "markdown",
   "id": "a7c0be38-56e3-4ca6-b1ae-0966867c5553",
   "metadata": {},
   "source": [
    "6.What is the value of bacon.index('cat')?\n",
    "\n",
    "sol. As indexing starts from 0, bacon.index('cat') = 1"
   ]
  },
  {
   "cell_type": "code",
   "execution_count": 16,
   "id": "0a4929fc-0f8f-495f-b553-8294fe787642",
   "metadata": {},
   "outputs": [
    {
     "data": {
      "text/plain": [
       "1"
      ]
     },
     "execution_count": 16,
     "metadata": {},
     "output_type": "execute_result"
    }
   ],
   "source": [
    "bacon = [3.14,'cat', 11, 'cat', 'True']\n",
    "bacon.index('cat')"
   ]
  },
  {
   "cell_type": "markdown",
   "id": "b56e1f91-4b4e-4b73-a1f9-14d7f2b8fdef",
   "metadata": {},
   "source": [
    "7.How does bacon.append(99) change the look of the list value in bacon?\n",
    "\n",
    "sol. append() adds value at the end of the list."
   ]
  },
  {
   "cell_type": "code",
   "execution_count": 22,
   "id": "8c68f604-1a43-4a11-8e9c-26132f9775a3",
   "metadata": {},
   "outputs": [
    {
     "data": {
      "text/plain": [
       "[3.14, 'cat', 11, 'cat', 'True', 99]"
      ]
     },
     "execution_count": 22,
     "metadata": {},
     "output_type": "execute_result"
    }
   ],
   "source": [
    "bacon = [3.14,'cat', 11, 'cat', 'True']\n",
    "bacon.append(99)\n",
    "bacon"
   ]
  },
  {
   "cell_type": "markdown",
   "id": "918059bc-f0d3-4295-b11f-4ac23a0439c1",
   "metadata": {},
   "source": [
    "8.How does bacon.remove('cat') change the look of the list in bacon?\n",
    "\n",
    "sol. bacon.remove() wil erase the first occurence of value in a provided list "
   ]
  },
  {
   "cell_type": "code",
   "execution_count": 1,
   "id": "97ae4242-410d-4b96-bfa5-3790f6d1b39d",
   "metadata": {},
   "outputs": [
    {
     "name": "stdout",
     "output_type": "stream",
     "text": [
      "[3.14, 11, 'cat', 'True']\n"
     ]
    }
   ],
   "source": [
    "bacon = [3.14,'cat', 11, 'cat', 'True']\n",
    "bacon.remove('cat')\n",
    "print(bacon)"
   ]
  },
  {
   "cell_type": "markdown",
   "id": "475f65f8-7f05-4d1a-b02a-18bb58ce594e",
   "metadata": {},
   "source": [
    "9.What are the list concatenation and list replication operators?\n",
    "\n",
    "sol. the concatenation operator is the plus (+) symbol and replication operator is the asterisk (*) symbol. "
   ]
  },
  {
   "cell_type": "code",
   "execution_count": 1,
   "id": "99f45dd2-5174-4bff-9a11-edf475b5ba2f",
   "metadata": {},
   "outputs": [
    {
     "name": "stdout",
     "output_type": "stream",
     "text": [
      "[1, 2, 3, 4, 5, 6]\n"
     ]
    }
   ],
   "source": [
    "l1 = [1,2,3]   #concatenation.\n",
    "l2 = [4,5,6]\n",
    "l = l1 + l2 \n",
    "print(l)"
   ]
  },
  {
   "cell_type": "code",
   "execution_count": 2,
   "id": "4424f79c-ea78-407d-aacd-ce2953d568c9",
   "metadata": {},
   "outputs": [
    {
     "name": "stdout",
     "output_type": "stream",
     "text": [
      "[1, 2, 3, 1, 2, 3, 1, 2, 3, 1, 2, 3]\n"
     ]
    }
   ],
   "source": [
    "l1 = [1,2,3]  #replication.\n",
    "l = l1*4\n",
    "print(l)"
   ]
  },
  {
   "cell_type": "markdown",
   "id": "c0cdab59-b822-4b2f-a219-72732966d7e9",
   "metadata": {},
   "source": [
    "10.What is difference between the list methods append() and insert()?\n",
    "\n",
    "sol. insert(i, value) adds value at the index provided in the function  and append() adds value at the end"
   ]
  },
  {
   "cell_type": "code",
   "execution_count": 2,
   "id": "8ba860d1-e0b5-4412-b11c-3ce11972936d",
   "metadata": {},
   "outputs": [
    {
     "data": {
      "text/plain": [
       "[3.14, 'cat', 11, 'cat', 'True', 66]"
      ]
     },
     "execution_count": 2,
     "metadata": {},
     "output_type": "execute_result"
    }
   ],
   "source": [
    "bacon = [3.14,'cat', 11, 'cat', 'True']\n",
    "bacon.append(66)\n",
    "bacon"
   ]
  },
  {
   "cell_type": "code",
   "execution_count": 10,
   "id": "eaa89d74-8ada-4985-8290-1440185f2126",
   "metadata": {},
   "outputs": [
    {
     "data": {
      "text/plain": [
       "[3.14, 'ball', 'cat', 11, 'cat', 'True']"
      ]
     },
     "execution_count": 10,
     "metadata": {},
     "output_type": "execute_result"
    }
   ],
   "source": [
    "bacon = [3.14,'cat', 11, 'cat', 'True']\n",
    "bacon.insert(1, 'ball')\n",
    "bacon"
   ]
  },
  {
   "cell_type": "markdown",
   "id": "3fed1c51-4000-481e-9f53-78e73d174d66",
   "metadata": {},
   "source": [
    "11.What are the two methods for removing items from a list?\n",
    "\n",
    "sol. pop() and remove() are the two methods to remove items from list.\n",
    "pop() removes value at given index and remove() deletes the value provided in function. "
   ]
  },
  {
   "cell_type": "code",
   "execution_count": 12,
   "id": "558ab0de-98e8-4fdc-b5a2-17892391f034",
   "metadata": {},
   "outputs": [
    {
     "data": {
      "text/plain": [
       "[3.14, 'cat', 'cat', 'True']"
      ]
     },
     "execution_count": 12,
     "metadata": {},
     "output_type": "execute_result"
    }
   ],
   "source": [
    "bacon = [3.14,'cat', 11, 'cat', 'True']\n",
    "bacon.remove(11)\n",
    "bacon"
   ]
  },
  {
   "cell_type": "code",
   "execution_count": 13,
   "id": "ff4ce8d5-bb5f-4968-833f-fd0f11e466b7",
   "metadata": {},
   "outputs": [
    {
     "data": {
      "text/plain": [
       "[3.14, 11, 'cat', 'True']"
      ]
     },
     "execution_count": 13,
     "metadata": {},
     "output_type": "execute_result"
    }
   ],
   "source": [
    "bacon = [3.14,'cat', 11, 'cat', 'True']\n",
    "bacon.pop(1)\n",
    "bacon"
   ]
  },
  {
   "cell_type": "markdown",
   "id": "3ea0c3f8-8b24-437a-a264-98e7c3b9c453",
   "metadata": {},
   "source": [
    "12.Describe how list values and string values are identical.\n",
    "\n",
    "sol.1) Both lists and strings support indexing, allowing to access elements present in it.\n",
    "    2) lengths of both lists and strings can be determined by \"len()\" function.\n",
    "    3) Lists and strings can be sliced to get a desired portion of the sequence.e.g\"list_[2:4], returns element at position \"2 and 3\"\n",
    "    4) Both list and string can be iterated over using loops.\n",
    "    5) Both list and string support concatenation and replication operation.\n",
    "\n",
    "\n"
   ]
  },
  {
   "cell_type": "markdown",
   "id": "0feba6f1-78f2-45cc-95f3-fda12d01f427",
   "metadata": {},
   "source": [
    "13.What is the difference between tuples and lists?\n",
    "\n",
    "sol. Lists are mutable; they can have values added, removed, or changed. \n",
    "Tuples are immutable; they cannot be changed at all. \n",
    "Also, tuples are written using parentheses() while lists use the square brackets []."
   ]
  },
  {
   "cell_type": "markdown",
   "id": "aae76797-b6f3-4283-b0d1-f83fcbfdb80f",
   "metadata": {},
   "source": [
    "14.How do you type a tuple value that only contains the integer 42?\n",
    "\n",
    "sol. By enclosing integer 42 in parantheses, the comma after integer is important to differentiate a tuple containing single element from an expression  enclosed in paranthesis. Without comma it would be interpreted as integer of value 42.\n"
   ]
  },
  {
   "cell_type": "code",
   "execution_count": 13,
   "id": "91fddf50-c648-46ca-9b1d-36a62335deec",
   "metadata": {},
   "outputs": [
    {
     "data": {
      "text/plain": [
       "(42,)"
      ]
     },
     "execution_count": 13,
     "metadata": {},
     "output_type": "execute_result"
    }
   ],
   "source": [
    "tuple_ = (42,)\n",
    "tuple_"
   ]
  },
  {
   "cell_type": "code",
   "execution_count": 14,
   "id": "d0c01601-d998-4b69-804e-dcacfe99ecf0",
   "metadata": {},
   "outputs": [
    {
     "data": {
      "text/plain": [
       "42"
      ]
     },
     "execution_count": 14,
     "metadata": {},
     "output_type": "execute_result"
    }
   ],
   "source": [
    "tuples = (42) #tuples = integer value (42)\n",
    "tuples"
   ]
  },
  {
   "cell_type": "markdown",
   "id": "62f7a12a-6e00-4373-b72e-4958d5e2d8ca",
   "metadata": {},
   "source": [
    "15.How do you get a list values tuple form? How do you get a tuple value's list form?\n",
    "\n",
    "sol. By \"tuple()\" and \"list()\" function respectively"
   ]
  },
  {
   "cell_type": "code",
   "execution_count": 16,
   "id": "2d1317aa-88bb-476a-9f0b-a4ae5216165e",
   "metadata": {},
   "outputs": [
    {
     "name": "stdout",
     "output_type": "stream",
     "text": [
      "(1, 2, 3, 4, 5)\n"
     ]
    }
   ],
   "source": [
    "l = [1, 2, 3, 4, 5]\n",
    "l = tuple(l)\n",
    "print(l)"
   ]
  },
  {
   "cell_type": "code",
   "execution_count": 17,
   "id": "651e11fd-bc51-474b-9c1f-05231f840cf3",
   "metadata": {},
   "outputs": [
    {
     "name": "stdout",
     "output_type": "stream",
     "text": [
      "[6, 7, 8, 9, 10]\n"
     ]
    }
   ],
   "source": [
    "t = (6, 7, 8, 9, 10)\n",
    "t = list(t)\n",
    "print(t)"
   ]
  },
  {
   "cell_type": "markdown",
   "id": "f4b88728-1573-4c27-9f5a-f7e196f0725a",
   "metadata": {},
   "source": [
    "16.Variables that 'contain' list values are not necessarily lists themselves. Instead, what do they\n",
    "contain?\n",
    "\n",
    "sol. They are reference to the lists. when a variable is assigned to a list, the variable holds a reference to the memory location where the list is stored."
   ]
  },
  {
   "cell_type": "code",
   "execution_count": 3,
   "id": "bba2899c-4f42-4355-88a2-3c5825d8dbd9",
   "metadata": {},
   "outputs": [
    {
     "name": "stdout",
     "output_type": "stream",
     "text": [
      "[1, 2, 3, 4]\n"
     ]
    }
   ],
   "source": [
    "l1 = [1, 2, 3, 4] # here variable \"l1\" is assigned to a list which contains reference to list values.\n",
    "print(l1)\n"
   ]
  },
  {
   "cell_type": "markdown",
   "id": "c916230a-533d-423e-b43b-9cefde608483",
   "metadata": {},
   "source": [
    "17.How do you distinguish between copy.copy() and copy.deepcopy()?\n",
    "\n",
    "sol. Both copy.copy() and copy.deepcopy() are used to create copies of lists, but they differ in how they in their way of copying lists, copy.copy() will do a ahallow copy of a list while copy.deepcopy() will do duplicate any nested list inside a list.\n",
    "While doing copy.copy() if changes are made in nested list those changes will occur both in copy and original list.\n",
    "Changes made in nested lists will not affect the original and copied list while using copy.deepcopy().\n"
   ]
  },
  {
   "cell_type": "code",
   "execution_count": 11,
   "id": "82928f0a-81f1-4f14-8fb3-0742f34d2167",
   "metadata": {},
   "outputs": [
    {
     "name": "stdout",
     "output_type": "stream",
     "text": [
      "[1, 6, [2, 3, 5], 4]\n",
      "[1, 6, [2, 3, 5], 4]\n",
      "[1, 6, [2, 3], 4]\n"
     ]
    }
   ],
   "source": [
    "import copy\n",
    "l1 = [1 ,6, [2, 3], 4]\n",
    "l2 = copy.copy(l1)\n",
    "l3 = copy.deepcopy(l1)\n",
    "l1[2].append(5)\n",
    "print(l1)\n",
    "print(l2)\n",
    "print(l3)"
   ]
  },
  {
   "cell_type": "code",
   "execution_count": null,
   "id": "e4a13370-a04a-4e8e-b99d-5c9f0c7ade54",
   "metadata": {},
   "outputs": [],
   "source": []
  }
 ],
 "metadata": {
  "kernelspec": {
   "display_name": "Python 3 (ipykernel)",
   "language": "python",
   "name": "python3"
  },
  "language_info": {
   "codemirror_mode": {
    "name": "ipython",
    "version": 3
   },
   "file_extension": ".py",
   "mimetype": "text/x-python",
   "name": "python",
   "nbconvert_exporter": "python",
   "pygments_lexer": "ipython3",
   "version": "3.10.6"
  }
 },
 "nbformat": 4,
 "nbformat_minor": 5
}
