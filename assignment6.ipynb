{
 "cells": [
  {
   "cell_type": "markdown",
   "id": "90d36f9a-a67f-4270-b04b-ac3d6ab25b95",
   "metadata": {},
   "source": [
    "                                              Assignment 6"
   ]
  },
  {
   "cell_type": "markdown",
   "id": "d834bb46-a8f4-45bb-bfa8-4283c9bf4e99",
   "metadata": {},
   "source": [
    "Q1. What are keywords in python? Using the keyword library, print all the python keywords.\n",
    "\n",
    "sol. Keywors in programming language are special reserved words that have specific purposes and can’t be used for anything but those specific purposes, we cant assign any value to them . There are 35 keywords in python."
   ]
  },
  {
   "cell_type": "code",
   "execution_count": 5,
   "id": "9bc79ea1-d001-4431-a26f-2c835a0848b8",
   "metadata": {},
   "outputs": [
    {
     "data": {
      "text/plain": [
       "['False',\n",
       " 'None',\n",
       " 'True',\n",
       " 'and',\n",
       " 'as',\n",
       " 'assert',\n",
       " 'async',\n",
       " 'await',\n",
       " 'break',\n",
       " 'class',\n",
       " 'continue',\n",
       " 'def',\n",
       " 'del',\n",
       " 'elif',\n",
       " 'else',\n",
       " 'except',\n",
       " 'finally',\n",
       " 'for',\n",
       " 'from',\n",
       " 'global',\n",
       " 'if',\n",
       " 'import',\n",
       " 'in',\n",
       " 'is',\n",
       " 'lambda',\n",
       " 'nonlocal',\n",
       " 'not',\n",
       " 'or',\n",
       " 'pass',\n",
       " 'raise',\n",
       " 'return',\n",
       " 'try',\n",
       " 'while',\n",
       " 'with',\n",
       " 'yield']"
      ]
     },
     "execution_count": 5,
     "metadata": {},
     "output_type": "execute_result"
    }
   ],
   "source": [
    "import keyword\n",
    "keyword.kwlist\n"
   ]
  },
  {
   "cell_type": "code",
   "execution_count": 6,
   "id": "3a298fcc-bba3-4ec7-9a2d-89b7d9ae48c5",
   "metadata": {},
   "outputs": [
    {
     "data": {
      "text/plain": [
       "35"
      ]
     },
     "execution_count": 6,
     "metadata": {},
     "output_type": "execute_result"
    }
   ],
   "source": [
    "import keyword\n",
    "keyword.kwlist\n",
    "len(keyword.kwlist)"
   ]
  },
  {
   "cell_type": "markdown",
   "id": "a4ad08c3-a3b3-4a9e-85b5-51e6342abb35",
   "metadata": {},
   "source": [
    "Q2. What are the rules to create variables in python?\n",
    "\n",
    "sol. 1) A variable name cannot start with a number\n",
    "     2) A variable name should start with a letter or underscore\n",
    "     3) Variable names are case sensitive\n",
    "     4) Keywords can't be used to assign variable name\n",
    "     5) A variable name can only contain alpha-numeric characters and underscores\n",
    "     6) Variable names cannot contain spaces or special characters \n",
    "     "
   ]
  },
  {
   "cell_type": "markdown",
   "id": "5ce731fa-7163-4013-9ab4-fabbe885af4b",
   "metadata": {},
   "source": [
    "Q3. What are the standards and conventions followed for the nomenclature of variables in\n",
    "python to improve code readability and maintainability?\n",
    "\n",
    "\n",
    "sol.Some of the key recommendationsfrom PEP8 (Python Enhancement Proposal 8 is a official style guide for python code) regarding variable naming are: \n",
    "    1) Use descriptive and meaningful names\n",
    "    2) Avoid single-letter variable names(except for simple loop indices)\n",
    "    3) Use lowercase letters with underscores: e.g; my_variable\n",
    "    4) Use nouns for object names e.g: shopping_cart\n",
    "    5) Use lowercase for function and method names. eg:calculate_average\n",
    "    6) Avoid excessive long names."
   ]
  },
  {
   "cell_type": "markdown",
   "id": "6821a98d-5a23-4754-9314-cf3123c840e4",
   "metadata": {},
   "source": [
    "Q4. What will happen if a keyword is used as a variable name?\n",
    "\n",
    "sol. if we assign keyword as a variable name we will get syntax error as keyword have predefined meanings and functionalities."
   ]
  },
  {
   "cell_type": "code",
   "execution_count": 1,
   "id": "8773e323-41e6-4785-8dce-cae5e00416e6",
   "metadata": {},
   "outputs": [
    {
     "ename": "SyntaxError",
     "evalue": "invalid syntax (182722112.py, line 1)",
     "output_type": "error",
     "traceback": [
      "\u001b[0;36m  Cell \u001b[0;32mIn [1], line 1\u001b[0;36m\u001b[0m\n\u001b[0;31m    if = 10\u001b[0m\n\u001b[0m       ^\u001b[0m\n\u001b[0;31mSyntaxError\u001b[0m\u001b[0;31m:\u001b[0m invalid syntax\n"
     ]
    }
   ],
   "source": [
    "if = 10"
   ]
  },
  {
   "cell_type": "markdown",
   "id": "8f26c356-a5c7-4485-b0c3-a2476b18a7f1",
   "metadata": {},
   "source": [
    "Q5. For what purpose def keyword is used?\n",
    "\n",
    "\n",
    "sol. def keyword is used to create a function.\n"
   ]
  },
  {
   "cell_type": "markdown",
   "id": "33ea7663-5ae4-42e4-b293-744b77c64b2e",
   "metadata": {},
   "source": [
    "Q6. What is the operation of this special character ‘\\’?\n",
    "\n",
    "sol.the backslash \"\\\" is a special character, also called the \"escape\" character. It is typically followed by another character to create escape character sequences within a string.\n",
    "\n",
    "Some escape characters are: '\\n', '\\t'.\n",
    "\n",
    "we can also use only backslash '\\' to continue writing in next line"
   ]
  },
  {
   "cell_type": "code",
   "execution_count": 10,
   "id": "ae5cc1f2-7d85-433a-ae92-3b5d8b149b5c",
   "metadata": {},
   "outputs": [
    {
     "name": "stdout",
     "output_type": "stream",
     "text": [
      "i am good boy\n"
     ]
    }
   ],
   "source": [
    "print('i am good\\\n",
    " boy')"
   ]
  },
  {
   "cell_type": "code",
   "execution_count": 12,
   "id": "cd88729c-9594-4d13-9205-9a193157f3ce",
   "metadata": {},
   "outputs": [
    {
     "ename": "SyntaxError",
     "evalue": "unterminated string literal (detected at line 1) (3019981162.py, line 1)",
     "output_type": "error",
     "traceback": [
      "\u001b[0;36m  Cell \u001b[0;32mIn [12], line 1\u001b[0;36m\u001b[0m\n\u001b[0;31m    print('i am a good boy\u001b[0m\n\u001b[0m          ^\u001b[0m\n\u001b[0;31mSyntaxError\u001b[0m\u001b[0;31m:\u001b[0m unterminated string literal (detected at line 1)\n"
     ]
    }
   ],
   "source": [
    "print('i am a good boy \n",
    "yes')"
   ]
  },
  {
   "cell_type": "code",
   "execution_count": 12,
   "id": "03b515ac-a0d5-48c4-acec-9682f470563c",
   "metadata": {},
   "outputs": [
    {
     "name": "stdout",
     "output_type": "stream",
     "text": [
      "i am a good boy\n",
      " yes\n"
     ]
    }
   ],
   "source": [
    "print('i am a good boy\\n yes')"
   ]
  },
  {
   "cell_type": "code",
   "execution_count": 6,
   "id": "be942276-7ed4-471d-a168-28ade766d031",
   "metadata": {},
   "outputs": [
    {
     "name": "stdout",
     "output_type": "stream",
     "text": [
      "i am a good boy\t: yes\n"
     ]
    }
   ],
   "source": [
    "print('i am a good boy\\t: yes')"
   ]
  },
  {
   "cell_type": "markdown",
   "id": "7f4f1793-8d48-49ae-940e-1f2fe2f69922",
   "metadata": {},
   "source": [
    "Q.7. Give an example of the following conditions:\n",
    "(i) Homogeneous list\n",
    "(ii) Heterogeneous set\n",
    "(iii) Homogeneous tuple\n"
   ]
  },
  {
   "cell_type": "code",
   "execution_count": 1,
   "id": "58d9766b-8116-4d5e-97b2-c99b3950c9ed",
   "metadata": {},
   "outputs": [
    {
     "name": "stdout",
     "output_type": "stream",
     "text": [
      "['India', 'Canada', 'Nepal', 'Srilanka']\n",
      "('audi', 'ford', 'suzuki', 'hyundai')\n",
      "{54.7, 10, (1, 2, 3), 'india', 'audi'}\n"
     ]
    }
   ],
   "source": [
    "#Homogeneous list\n",
    "countries = [\"India\", \"Canada\", \"Nepal\", \"Srilanka\" ]\n",
    "print(countries)\n",
    "\n",
    "#Homogeneous tuple\n",
    "cars = (\"audi\", \"ford\", \"suzuki\", \"hyundai\")\n",
    "print(cars)\n",
    "\n",
    "#Heterogeneous set\n",
    "myset = {\"audi\", \"india\", 54.7, 10, (1, 2, 3)}\n",
    "print(myset)\n"
   ]
  },
  {
   "cell_type": "markdown",
   "id": "a50dfaad-cc6d-48ec-84b7-6696109649fb",
   "metadata": {},
   "source": [
    "Q.8. Explain the mutable and immutable data types with proper explanation & examples.\n",
    "\n",
    "\n",
    "sol. Mutable:Anything is said to be mutable when anything can be modified or changed. The term \"mutable\" in Python refers to an object's capacity to modify its values.\n",
    "Python mutable data types: Lists, Dictionaries, Sets.\n",
    "     \n",
    "Immutable: An object is referred to as immutable if we cannot change its value over time. Any attempt to modify their values will result in creation of new object. The value of these Python objects is fixed once they are made.\n",
    "Python Immutable data types: Numbers (Integer, Float, Complex), Tuples, Strings    "
   ]
  },
  {
   "cell_type": "code",
   "execution_count": 13,
   "id": "0a128764-364c-421f-8d4e-05c07bcec174",
   "metadata": {},
   "outputs": [
    {
     "name": "stdout",
     "output_type": "stream",
     "text": [
      "['India', 'Canada', 'Nepal', 'Srilanka']\n",
      "['USA', 'Canada', 'Nepal', 'Srilanka']\n",
      "['USA', 'Canada', 'Taiwan', 'Srilanka']\n",
      "['USA', 'Canada', 'Taiwan', 'Srilanka', 'France']\n"
     ]
    }
   ],
   "source": [
    "# Mutable data types \n",
    "countries = [\"India\", \"Canada\", \"Nepal\", \"Srilanka\" ]\n",
    "print(countries)\n",
    "countries[0] = \"USA\"\n",
    "print(countries)\n",
    "countries[2] = \"Taiwan\"\n",
    "print(countries)\n",
    "countries.append(\"France\")\n",
    "print(countries)"
   ]
  },
  {
   "cell_type": "code",
   "execution_count": 16,
   "id": "de8c2eea-d33a-4319-a900-f8423b7df97b",
   "metadata": {},
   "outputs": [
    {
     "name": "stdout",
     "output_type": "stream",
     "text": [
      "20\n",
      "Hi Haseeb\n"
     ]
    }
   ],
   "source": [
    "# modifying immutable objects creates new object...\n",
    "y = 10\n",
    "y = y + 10\n",
    "print(y)\n",
    "z = \"Haseeb\"\n",
    "z = \"Hi \" + z\n",
    "print(z)"
   ]
  },
  {
   "cell_type": "code",
   "execution_count": 25,
   "id": "6275988f-59ea-4b21-9b5f-b3907308435c",
   "metadata": {},
   "outputs": [
    {
     "name": "stdout",
     "output_type": "stream",
     "text": [
      "('audi', 'ford', 'suzuki', 'hyundai')\n"
     ]
    },
    {
     "ename": "TypeError",
     "evalue": "'tuple' object does not support item assignment",
     "output_type": "error",
     "traceback": [
      "\u001b[0;31m---------------------------------------------------------------------------\u001b[0m",
      "\u001b[0;31mTypeError\u001b[0m                                 Traceback (most recent call last)",
      "Cell \u001b[0;32mIn [25], line 4\u001b[0m\n\u001b[1;32m      2\u001b[0m cars \u001b[38;5;241m=\u001b[39m (\u001b[38;5;124m\"\u001b[39m\u001b[38;5;124maudi\u001b[39m\u001b[38;5;124m\"\u001b[39m, \u001b[38;5;124m\"\u001b[39m\u001b[38;5;124mford\u001b[39m\u001b[38;5;124m\"\u001b[39m, \u001b[38;5;124m\"\u001b[39m\u001b[38;5;124msuzuki\u001b[39m\u001b[38;5;124m\"\u001b[39m, \u001b[38;5;124m\"\u001b[39m\u001b[38;5;124mhyundai\u001b[39m\u001b[38;5;124m\"\u001b[39m)\n\u001b[1;32m      3\u001b[0m \u001b[38;5;28mprint\u001b[39m(cars)\n\u001b[0;32m----> 4\u001b[0m \u001b[43mcars\u001b[49m\u001b[43m[\u001b[49m\u001b[38;5;241;43m2\u001b[39;49m\u001b[43m]\u001b[49m \u001b[38;5;241m=\u001b[39m \u001b[38;5;124m\"\u001b[39m\u001b[38;5;124mporsche\u001b[39m\u001b[38;5;124m\"\u001b[39m\n\u001b[1;32m      5\u001b[0m \u001b[38;5;28mprint\u001b[39m(cars)\n\u001b[1;32m      6\u001b[0m a \u001b[38;5;241m=\u001b[39m \u001b[38;5;124m\"\u001b[39m\u001b[38;5;124mhaseeb\u001b[39m\u001b[38;5;124m\"\u001b[39m\n",
      "\u001b[0;31mTypeError\u001b[0m: 'tuple' object does not support item assignment"
     ]
    }
   ],
   "source": [
    "# ImMmtable data types \n",
    "cars = (\"audi\", \"ford\", \"suzuki\", \"hyundai\")\n",
    "print(cars)\n",
    "cars[2] = \"porsche\"\n",
    "print(cars)\n"
   ]
  },
  {
   "cell_type": "code",
   "execution_count": 26,
   "id": "8b53a9f0-140d-494f-aba0-f03475c71514",
   "metadata": {},
   "outputs": [
    {
     "ename": "TypeError",
     "evalue": "'str' object does not support item assignment",
     "output_type": "error",
     "traceback": [
      "\u001b[0;31m---------------------------------------------------------------------------\u001b[0m",
      "\u001b[0;31mTypeError\u001b[0m                                 Traceback (most recent call last)",
      "Cell \u001b[0;32mIn [26], line 2\u001b[0m\n\u001b[1;32m      1\u001b[0m a \u001b[38;5;241m=\u001b[39m \u001b[38;5;124m\"\u001b[39m\u001b[38;5;124mhaseeb\u001b[39m\u001b[38;5;124m\"\u001b[39m\n\u001b[0;32m----> 2\u001b[0m \u001b[43ma\u001b[49m\u001b[43m[\u001b[49m\u001b[38;5;241;43m0\u001b[39;49m\u001b[43m]\u001b[49m \u001b[38;5;241m=\u001b[39m \u001b[38;5;124m\"\u001b[39m\u001b[38;5;124ms\u001b[39m\u001b[38;5;124m\"\u001b[39m \n\u001b[1;32m      3\u001b[0m \u001b[38;5;28mprint\u001b[39m(a)\n",
      "\u001b[0;31mTypeError\u001b[0m: 'str' object does not support item assignment"
     ]
    }
   ],
   "source": [
    "a = \"haseeb\"\n",
    "a[0] = \"s\" \n",
    "print(a)"
   ]
  },
  {
   "cell_type": "markdown",
   "id": "bb87b5e9-f27d-4f96-a675-21134dc0793d",
   "metadata": {},
   "source": [
    "Q9. Write a code to create the given structure using only for loop."
   ]
  },
  {
   "cell_type": "code",
   "execution_count": 24,
   "id": "30542cf0-a8d4-45c6-882c-838a8e6d0e2f",
   "metadata": {},
   "outputs": [
    {
     "name": "stdin",
     "output_type": "stream",
     "text": [
      "enter the number 5\n"
     ]
    },
    {
     "name": "stdout",
     "output_type": "stream",
     "text": [
      "      *\n",
      "     ***\n",
      "    *****\n",
      "   *******\n",
      "  *********\n"
     ]
    }
   ],
   "source": [
    "n = int(input(\"enter the number\"))\n",
    "for i in range(0, n):\n",
    "    print(\" \"*(n-i), \"*\"*(2*i+1))"
   ]
  },
  {
   "cell_type": "markdown",
   "id": "833d15ad-c049-44f0-b3c0-34074a3d8920",
   "metadata": {},
   "source": [
    "Q.10 Write a code to create the given structure using while loop.\n"
   ]
  },
  {
   "cell_type": "code",
   "execution_count": 1,
   "id": "b4364c66-bfc6-4916-a2f1-506c87a669f4",
   "metadata": {},
   "outputs": [
    {
     "name": "stdout",
     "output_type": "stream",
     "text": [
      " |||||||||\n",
      "  |||||||\n",
      "   |||||\n",
      "    |||\n",
      "     |\n"
     ]
    }
   ],
   "source": [
    "rows = 0\n",
    "while rows<5:\n",
    "    print(\" \"*(rows), \"|\"*(9-2*rows))\n",
    "    rows+=1\n",
    "   \n",
    "    "
   ]
  },
  {
   "cell_type": "code",
   "execution_count": null,
   "id": "ad00481d-3c0a-4d44-a7e2-8efacd5cf862",
   "metadata": {},
   "outputs": [],
   "source": []
  }
 ],
 "metadata": {
  "kernelspec": {
   "display_name": "Python 3 (ipykernel)",
   "language": "python",
   "name": "python3"
  },
  "language_info": {
   "codemirror_mode": {
    "name": "ipython",
    "version": 3
   },
   "file_extension": ".py",
   "mimetype": "text/x-python",
   "name": "python",
   "nbconvert_exporter": "python",
   "pygments_lexer": "ipython3",
   "version": "3.10.6"
  }
 },
 "nbformat": 4,
 "nbformat_minor": 5
}
