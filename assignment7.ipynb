{
 "cells": [
  {
   "cell_type": "markdown",
   "id": "1f07b773-5196-4c5d-a072-94287b0e531f",
   "metadata": {},
   "source": [
    "                                                 Assignment 7"
   ]
  },
  {
   "cell_type": "markdown",
   "id": "086636dd-14a5-4c11-ac6f-dd49cafabda7",
   "metadata": {},
   "source": [
    "Q.1. Create two int type variables, apply addition, subtraction, division and multiplications\n",
    "and store the results in variables. Then print the data in the following format by calling the\n",
    "variables:\n",
    "First variable is __ & second variable is __.\n",
    "Addition: __ + __ = __\n",
    "Subtraction: __ - __ = __\n",
    "Multiplication: __ * __ = __\n",
    "Division: __ / __ = __"
   ]
  },
  {
   "cell_type": "code",
   "execution_count": 1,
   "id": "807f607b-ded0-49a1-9984-c5996f20e917",
   "metadata": {},
   "outputs": [
    {
     "name": "stdin",
     "output_type": "stream",
     "text": [
      "enter first variable 5\n",
      "enter 2nd variable 9\n"
     ]
    },
    {
     "name": "stdout",
     "output_type": "stream",
     "text": [
      "First variable is 5 & Second variable is 9\n",
      "Addition: 5 + 9 = 14\n",
      "Subtraction: 5 - 9 = -4\n",
      "Multiplication: 5 * 9 = 45\n",
      "Division: 5 / 9 = 0.5555555555555556\n"
     ]
    }
   ],
   "source": [
    "a  = int(input(\"enter first variable\"))\n",
    "b = int(input(\"enter 2nd variable\"))\n",
    "print(\"First variable is\", a, \"& Second variable is\", b)\n",
    "print(\"Addition:\", a, \"+\", b, \"=\", (a+b))\n",
    "print(\"Subtraction:\", a, \"-\", b, \"=\", (a-b))\n",
    "print(\"Multiplication:\", a, \"*\", b, \"=\", (a*b))\n",
    "print(\"Division:\", a, \"/\", b, \"=\", (a/b))"
   ]
  },
  {
   "cell_type": "code",
   "execution_count": 4,
   "id": "f264210f-0a33-4b4c-b578-d18ec7fafc07",
   "metadata": {},
   "outputs": [
    {
     "name": "stdin",
     "output_type": "stream",
     "text": [
      "enter first variable 5\n",
      "enter 2nd variable 9\n"
     ]
    },
    {
     "name": "stdout",
     "output_type": "stream",
     "text": [
      "Please select operation:\n",
      "1. Addition\n",
      "2. Subtraction\n",
      "3. Multiplication\n",
      "4. Division\n",
      "\n"
     ]
    },
    {
     "name": "stdin",
     "output_type": "stream",
     "text": [
      "please select from 1, 2, 3, 4: 4\n"
     ]
    },
    {
     "name": "stdout",
     "output_type": "stream",
     "text": [
      "Division: 5 / 9 = 0.5555555555555556\n"
     ]
    }
   ],
   "source": [
    "a  = int(input(\"enter first variable\"))\n",
    "b = int(input(\"enter 2nd variable\"))\n",
    "\n",
    "print(\"Please select operation:\\n\" \"1. Addition\\n\" \"2. Subtraction\\n\" \"3. Multiplication\\n\" \"4. Division\\n\")\n",
    "select = int(input(\"please select from 1, 2, 3, 4:\"))\n",
    "if select == 1:\n",
    "    print(\"Addition:\", a, \"+\", b, \"=\", (a+b))\n",
    "                    \n",
    "elif select == 2:\n",
    "    print(\"Subtraction:\", a, \"-\", b, \"=\", (a-b))\n",
    "                    \n",
    "elif select == 3:\n",
    "    print(\"Multiplication:\", a, \"*\", b, \"=\", (a*b))\n",
    "                    \n",
    "elif select == 4:\n",
    "    print(\"Division:\", a, \"/\", b, \"=\", (a/b))"
   ]
  },
  {
   "cell_type": "markdown",
   "id": "b7d852c2-471a-4a3c-81bc-03677b74c32d",
   "metadata": {},
   "source": [
    "Q.2. What is the difference between the following operators:\n",
    "(i) ‘/’ & ‘//’\n",
    "(ii) ‘**’ & ‘^’\n",
    "\n",
    "sol. Both \"/\" and \"//\" are used to carry out division. \n",
    "     Output of \"/\" gives us the quotient and is a float datatype.\n",
    "     Output of \"//\" gives us the quotient rounded off to the closest whole number. It is also known as floor division.\n",
    "     "
   ]
  },
  {
   "cell_type": "code",
   "execution_count": 10,
   "id": "b04254ef-bdbb-47e0-8b78-f3d222744e50",
   "metadata": {},
   "outputs": [
    {
     "data": {
      "text/plain": [
       "1"
      ]
     },
     "execution_count": 10,
     "metadata": {},
     "output_type": "execute_result"
    }
   ],
   "source": [
    "10//6"
   ]
  },
  {
   "cell_type": "code",
   "execution_count": 9,
   "id": "af6f49c1-65bd-47ab-a6e5-fda433a357a7",
   "metadata": {},
   "outputs": [
    {
     "data": {
      "text/plain": [
       "-2"
      ]
     },
     "execution_count": 9,
     "metadata": {},
     "output_type": "execute_result"
    }
   ],
   "source": [
    "-10//6 # in case of -ve number it rounds off to greater -ve number."
   ]
  },
  {
   "cell_type": "code",
   "execution_count": 7,
   "id": "579d14bf-c2d3-4976-b526-f3eece1cdf76",
   "metadata": {},
   "outputs": [
    {
     "data": {
      "text/plain": [
       "1.6666666666666667"
      ]
     },
     "execution_count": 7,
     "metadata": {},
     "output_type": "execute_result"
    }
   ],
   "source": [
    "10/6"
   ]
  },
  {
   "cell_type": "markdown",
   "id": "1ce99923-50b7-4051-b940-915a33ef7210",
   "metadata": {},
   "source": [
    "Q.2. ‘**’ & ‘^’\n",
    "\n",
    "sol. In python \"**\" is a exponential operator and \"^\" is a bitwise(XOR) operator."
   ]
  },
  {
   "cell_type": "code",
   "execution_count": 13,
   "id": "e8f53980-5132-4277-b565-3b55d1158d07",
   "metadata": {},
   "outputs": [
    {
     "data": {
      "text/plain": [
       "125"
      ]
     },
     "execution_count": 13,
     "metadata": {},
     "output_type": "execute_result"
    }
   ],
   "source": [
    "5**3"
   ]
  },
  {
   "cell_type": "code",
   "execution_count": 15,
   "id": "7c7ead6d-3fc9-485c-9438-d9bb4194a6d0",
   "metadata": {},
   "outputs": [
    {
     "data": {
      "text/plain": [
       "6"
      ]
     },
     "execution_count": 15,
     "metadata": {},
     "output_type": "execute_result"
    }
   ],
   "source": [
    "5^3"
   ]
  },
  {
   "cell_type": "markdown",
   "id": "0dcfbb49-8d61-4200-b264-37c5cc35ad9a",
   "metadata": {},
   "source": [
    "Q.3. List the logical operators.\n",
    "\n",
    "sol. OR operator (OR operator is true when either of the operands is true)\n",
    "     AND operator (AND operator is true when both operands are true)\n",
    "     NOT operator (NOT operator is true when operand is false)"
   ]
  },
  {
   "cell_type": "markdown",
   "id": "4e9a93e8-5e8b-45e5-97ec-7a1b659e6508",
   "metadata": {},
   "source": [
    "Q.4. Explain right shift operator and left shift operator with examples.\n",
    "\n",
    "sol. In python, the right shift('>>') and left shift ('<<') operators are used to shift the bits of a number to the right or left, respectively. These operators  operate on the binary representation of the number and perform bitwise shifting.\n",
    "\n",
    "Right shift operator  shift the bits of a number to the right by specified number of positions. It effectively divides the number by 2 raised to the power of the shift amount, discarding any remainders.\n",
    "\n",
    "Left shift operator  shift the bits of a number to the left by specified number of positions. It effectively divides the number by 2 raised to the power of the shift amount, discarding any remainders.\n"
   ]
  },
  {
   "cell_type": "code",
   "execution_count": 4,
   "id": "8a46595a-a8e9-4d59-9758-e37acc3fe80b",
   "metadata": {},
   "outputs": [
    {
     "name": "stdout",
     "output_type": "stream",
     "text": [
      "1\n"
     ]
    }
   ],
   "source": [
    "a = 5\n",
    "a = a >> 2\n",
    "print(a)"
   ]
  },
  {
   "cell_type": "code",
   "execution_count": 5,
   "id": "96ca698d-a714-4117-9969-fe5ebe5cb970",
   "metadata": {},
   "outputs": [
    {
     "name": "stdout",
     "output_type": "stream",
     "text": [
      "20\n"
     ]
    }
   ],
   "source": [
    "a = 5\n",
    "a = a << 2\n",
    "print(a)"
   ]
  },
  {
   "cell_type": "markdown",
   "id": "b3d77ef5-fd14-4cab-ae00-acbad0ddca4c",
   "metadata": {},
   "source": [
    "Q.5. Create a list containing int type data of length 15. Then write a code to check if 10 is\n",
    "present in the list or not."
   ]
  },
  {
   "cell_type": "code",
   "execution_count": 1,
   "id": "ad63055d-6c07-44fd-9e9d-4593b06430d1",
   "metadata": {},
   "outputs": [
    {
     "name": "stdout",
     "output_type": "stream",
     "text": [
      "yes\n"
     ]
    }
   ],
   "source": [
    "x = [1, 2, 9, 77, 78, 4, 5, 65, 89, 46, \"ineuron\", 45, 10, 644, \"python\"]\n",
    "for i in x:\n",
    "    if i == 10:\n",
    "        print(\"yes\")\n"
   ]
  },
  {
   "cell_type": "code",
   "execution_count": 28,
   "id": "1a51eb4c-2b95-4e92-8c1d-ef811a0ca1e8",
   "metadata": {},
   "outputs": [
    {
     "name": "stdout",
     "output_type": "stream",
     "text": [
      "no\n"
     ]
    }
   ],
   "source": [
    "a = 10\n",
    "x = [1, 2, 9, 77, 78, 4, 5, 65, 89, 46, \"ineuron\", 45, 11, 644, \"python\"]\n",
    "for i in range(len(x)):\n",
    "    if a == x[i]:\n",
    "        print('yes')\n",
    "else:\n",
    "    print(\"no\")\n",
    "    "
   ]
  },
  {
   "cell_type": "code",
   "execution_count": null,
   "id": "4dafee07-3fb0-44fa-9bfe-a711c3aaa66a",
   "metadata": {},
   "outputs": [],
   "source": []
  }
 ],
 "metadata": {
  "kernelspec": {
   "display_name": "Python 3 (ipykernel)",
   "language": "python",
   "name": "python3"
  },
  "language_info": {
   "codemirror_mode": {
    "name": "ipython",
    "version": 3
   },
   "file_extension": ".py",
   "mimetype": "text/x-python",
   "name": "python",
   "nbconvert_exporter": "python",
   "pygments_lexer": "ipython3",
   "version": "3.10.6"
  }
 },
 "nbformat": 4,
 "nbformat_minor": 5
}
