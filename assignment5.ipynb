{
 "cells": [
  {
   "cell_type": "markdown",
   "id": "a2942f58-592c-469a-9536-becd4ee625ac",
   "metadata": {},
   "source": [
    "                                                Assignment 5\n",
    "                                                  "
   ]
  },
  {
   "cell_type": "markdown",
   "id": "2f15532e-711f-4ced-b7d4-0348ff883f17",
   "metadata": {},
   "source": [
    "1.What does an empty dictionary's code look like?\n",
    "\n",
    "sol. {}: Two curly brackets "
   ]
  },
  {
   "cell_type": "markdown",
   "id": "d2a82fb2-7b5e-4378-be23-d9c67fcaffb2",
   "metadata": {},
   "source": [
    "2.What is the value of a dictionary value with the key 'foo' and the value 42?"
   ]
  },
  {
   "cell_type": "code",
   "execution_count": null,
   "id": "9cd1086e-ccc5-469a-91f3-c85b5d75c4ae",
   "metadata": {},
   "outputs": [],
   "source": [
    "d = {'foo':42}"
   ]
  },
  {
   "cell_type": "code",
   "execution_count": 5,
   "id": "2c54c223-1267-4d4f-a34b-ad0dc8b12bb2",
   "metadata": {},
   "outputs": [
    {
     "data": {
      "text/plain": [
       "42"
      ]
     },
     "execution_count": 5,
     "metadata": {},
     "output_type": "execute_result"
    }
   ],
   "source": [
    "d['foo']"
   ]
  },
  {
   "cell_type": "markdown",
   "id": "53bb4d1f-f2be-4e4e-916e-a8b091d5f9aa",
   "metadata": {},
   "source": [
    "3.What is the most significant distinction between a dictionary and a list?\n",
    "\n",
    "sol. #Dictionary--------------------------------------------------------------------------------------\n",
    "     A dictionary is an unordered collection of items i.e key-value pairs.\n",
    "     Data in dictionary is accessed by providing key associated with the value.\n",
    "     #List---------------------------------------------------------------------------------------------\n",
    "     A list is an ordered collection of items.\n",
    "     Data in a list is accesssed by providing the index of the item present in list."
   ]
  },
  {
   "cell_type": "markdown",
   "id": "023a2b9a-53b7-4b29-9657-3404aaa88b32",
   "metadata": {},
   "source": [
    "4.What happens if you try to access spam['foo'] if spam is {'bar': 100}?\n",
    "\n",
    "sol. It will show error as we are entering wrong key.(KeyError)"
   ]
  },
  {
   "cell_type": "code",
   "execution_count": null,
   "id": "16ede895-856d-4f39-8b1a-845bf12f7c3a",
   "metadata": {},
   "outputs": [
    {
     "ename": "KeyError",
     "evalue": "100",
     "output_type": "error",
     "traceback": [
      "\u001b[0;31m---------------------------------------------------------------------------\u001b[0m",
      "\u001b[0;31mKeyError\u001b[0m                                  Traceback (most recent call last)",
      "Cell \u001b[0;32mIn [1], line 2\u001b[0m\n\u001b[1;32m      1\u001b[0m spam \u001b[38;5;241m=\u001b[39m {\u001b[38;5;124m'\u001b[39m\u001b[38;5;124mbar\u001b[39m\u001b[38;5;124m'\u001b[39m:\u001b[38;5;241m100\u001b[39m}\n\u001b[0;32m----> 2\u001b[0m \u001b[43mspam\u001b[49m\u001b[43m[\u001b[49m\u001b[38;5;241;43m100\u001b[39;49m\u001b[43m]\u001b[49m\n",
      "\u001b[0;31mKeyError\u001b[0m: 100"
     ]
    }
   ],
   "source": [
    "spam = {'bar':100}\n",
    "spam['foo']"
   ]
  },
  {
   "cell_type": "markdown",
   "id": "88e9ec04-d36b-4037-9fb0-4281cc3b7574",
   "metadata": {},
   "source": [
    "5.If a dictionary is stored in spam, what is the difference between the expressions 'cat' in spam and\n",
    "'cat' in spam.keys()?\n",
    "\n",
    "sol. Both checks whether a key 'cat' exists in dictionary or not."
   ]
  },
  {
   "cell_type": "code",
   "execution_count": 14,
   "id": "ff55546e-84fa-42ea-b80b-6fe2c9710a5d",
   "metadata": {},
   "outputs": [
    {
     "data": {
      "text/plain": [
       "True"
      ]
     },
     "execution_count": 14,
     "metadata": {},
     "output_type": "execute_result"
    }
   ],
   "source": [
    "spam = {'cat':42}\n",
    "'cat' in spam.keys()"
   ]
  },
  {
   "cell_type": "code",
   "execution_count": 15,
   "id": "5872d8a7-14c7-4076-9a85-b676780ba3ef",
   "metadata": {},
   "outputs": [
    {
     "data": {
      "text/plain": [
       "True"
      ]
     },
     "execution_count": 15,
     "metadata": {},
     "output_type": "execute_result"
    }
   ],
   "source": [
    "spam = {'cat':42}\n",
    "'cat' in spam"
   ]
  },
  {
   "cell_type": "markdown",
   "id": "b7624a8f-bffc-4033-9ce6-d7b1e1719026",
   "metadata": {},
   "source": [
    "6.If a dictionary is stored in spam, what is the difference between the expressions 'cat' in spam and\n",
    "'cat' in spam.values()?\n",
    "\n",
    "sol. 'cat' in spam checks whether a key 'cat' exists in a dictionary and 'cat' in spam.values() checks whether there is a value 'cat' stored in a key."
   ]
  },
  {
   "cell_type": "code",
   "execution_count": 20,
   "id": "4b243435-957f-4785-be4c-1eeaea1390c7",
   "metadata": {},
   "outputs": [
    {
     "data": {
      "text/plain": [
       "True"
      ]
     },
     "execution_count": 20,
     "metadata": {},
     "output_type": "execute_result"
    }
   ],
   "source": [
    "spam = {'cat':42}\n",
    "'cat' in spam"
   ]
  },
  {
   "cell_type": "code",
   "execution_count": 21,
   "id": "3961edd8-9265-45bf-886b-72ce1c3757d9",
   "metadata": {},
   "outputs": [
    {
     "data": {
      "text/plain": [
       "False"
      ]
     },
     "execution_count": 21,
     "metadata": {},
     "output_type": "execute_result"
    }
   ],
   "source": [
    "spam = {'cat':42}\n",
    "'cat' in spam.values()"
   ]
  },
  {
   "cell_type": "markdown",
   "id": "badd6821-9f15-42ed-a262-6f3abff578c6",
   "metadata": {},
   "source": [
    "7.What is a shortcut for the following code?\n",
    "if 'color' not in spam:\n",
    "spam['color'] = 'black'\n"
   ]
  },
  {
   "cell_type": "code",
   "execution_count": 37,
   "id": "07a5d787-0059-4b43-b1b4-5efbc7f191e9",
   "metadata": {},
   "outputs": [
    {
     "data": {
      "text/plain": [
       "{'cat': 42, 'color': 'black'}"
      ]
     },
     "execution_count": 37,
     "metadata": {},
     "output_type": "execute_result"
    }
   ],
   "source": [
    "spam = {'cat':42}\n",
    "spam.setdefault('color', 'black')\n",
    "spam"
   ]
  },
  {
   "cell_type": "code",
   "execution_count": 38,
   "id": "ac0179f3-f3e9-4308-9e94-43f143a6145a",
   "metadata": {},
   "outputs": [
    {
     "data": {
      "text/plain": [
       "{'cat': 42, 'color': 'black'}"
      ]
     },
     "execution_count": 38,
     "metadata": {},
     "output_type": "execute_result"
    }
   ],
   "source": [
    "spam = {'cat':42}\n",
    "spam['color'] = 'black'\n",
    "spam"
   ]
  },
  {
   "cell_type": "markdown",
   "id": "78558510-e55f-4d59-9d31-8c78a53fb76d",
   "metadata": {},
   "source": [
    "8.How do you \"pretty print\" dictionary values using which module and function?"
   ]
  },
  {
   "cell_type": "code",
   "execution_count": null,
   "id": "48568389-0771-4519-a376-683add3cc3e9",
   "metadata": {},
   "outputs": [],
   "source": [
    "pprint.pprint()"
   ]
  }
 ],
 "metadata": {
  "kernelspec": {
   "display_name": "Python 3 (ipykernel)",
   "language": "python",
   "name": "python3"
  },
  "language_info": {
   "codemirror_mode": {
    "name": "ipython",
    "version": 3
   },
   "file_extension": ".py",
   "mimetype": "text/x-python",
   "name": "python",
   "nbconvert_exporter": "python",
   "pygments_lexer": "ipython3",
   "version": "3.10.6"
  }
 },
 "nbformat": 4,
 "nbformat_minor": 5
}
