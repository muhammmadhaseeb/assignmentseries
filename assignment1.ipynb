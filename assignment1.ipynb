{
 "cells": [
  {
   "cell_type": "markdown",
   "id": "21294593-b634-4020-8d94-9150049c8746",
   "metadata": {},
   "source": [
    "                                                 Assignment 1"
   ]
  },
  {
   "cell_type": "markdown",
   "id": "5b8a299e-cdc1-431a-b5b5-e8f31d5312d0",
   "metadata": {},
   "source": [
    "Q1: In the below elements which of them are values or an expression? eg:- values can be\n",
    "integer or string and expressions will be mathematical operators.\n",
    "\n",
    "\n",
    "sol:  Values:\n",
    "     'hello' is a string \n",
    "     -87.8 is a float value\n",
    "      6 is integer value\n",
    "      2) Operators:\n",
    "        *,-,/,+ are mathematical operators.\n",
    "        \n",
    "       "
   ]
  },
  {
   "cell_type": "markdown",
   "id": "4b94a5a9-6055-499d-9870-78ad95e4ec1a",
   "metadata": {},
   "source": [
    "Q2: What is the difference between string and variable?\n",
    "\n",
    "sol: A variable is anything  that  we can use to store data in a program. Data stored in variable can be int, float, string etc while as,\n",
    "     \n",
    "A string is a specific data that we use to fill up a vairable.It is a type of variable that stores text values.A string is written in single quote or in double quotes.\n",
    "\n"
   ]
  },
  {
   "cell_type": "code",
   "execution_count": 32,
   "id": "4444e6ce-6c50-4307-8bb5-d7cdb152d3de",
   "metadata": {},
   "outputs": [
    {
     "data": {
      "text/plain": [
       "str"
      ]
     },
     "execution_count": 32,
     "metadata": {},
     "output_type": "execute_result"
    }
   ],
   "source": [
    "a = 'ineuron'\n",
    "type(a)"
   ]
  },
  {
   "cell_type": "markdown",
   "id": "179b6fa8-7bd8-4385-b17b-549d373ba279",
   "metadata": {},
   "source": [
    "Q3: Describe three different data types.\n",
    "\n",
    "sol: 1. Numeric data(int,float,complex) :The numeric data type in Python represents the data that has a numeric value. A numeric value can\n",
    "\n",
    "be   an integer, a floating number, or even a complex number.\n",
    "\n",
    "Integer: This value is represented by int class. It contains positive or negative whole numbers.\n",
    "    \n",
    "Float: This value is represented by the float class. It is a real number with a floating-point representation. It is specified by a  decimal point\n",
    "\n",
    "complex number:Complex number is represented by a complex class. It is specified as (real part + (imaginary part)j).\n",
    "\n",
    "2.Texts(string): A string is a collection of one or more characters put in a single quote, double-quote, or triple-quote. \n",
    "    \n",
    "3.Sequenced data(lists, tuple, dictionary):The sequence Data Type in Python is the ordered collection of similar or different data types.    Sequences allow storing of multiple values in an organized and efficient fashion. \n",
    "    \n",
    "4.Boolean : Data type with one of the two built-in values, True or False. Used in conditional statements and logical operations."
   ]
  },
  {
   "cell_type": "markdown",
   "id": "74fe96c1-d864-4740-9262-58ef5381b455",
   "metadata": {},
   "source": [
    "Q4 What is an expression made up of? What do all expressions do?\n",
    "\n",
    "\n",
    "sol: An expression is made up of variables,operators. The expression in Python produces some value or result after being interpreted by the Python interpreter.\n"
   ]
  },
  {
   "cell_type": "code",
   "execution_count": 1,
   "id": "d4f66507-a781-4d8d-be98-92db1f22c8b7",
   "metadata": {},
   "outputs": [
    {
     "name": "stdout",
     "output_type": "stream",
     "text": [
      "30\n"
     ]
    }
   ],
   "source": [
    "y = 10\n",
    "z = 20\n",
    "a = y + z\n",
    "print(a)"
   ]
  },
  {
   "cell_type": "markdown",
   "id": "f7bc6bdb-256c-4e83-9115-ef60fa97b676",
   "metadata": {},
   "source": [
    "Q5 . This assignment statements, like spam = 10. What is the difference between an\n",
    "expression and a statement?\n",
    "\n",
    "sol:  Expression is a combination of one or more values, variables, operators.Expressions produces value or result after being interpreted by interpreter. \n",
    "\n",
    "while as a statement is a complete instructions or a command that perform actions. Statements doesnot return a value like expressions do. eg of statements : if, for, while & assignment statements."
   ]
  },
  {
   "cell_type": "code",
   "execution_count": 1,
   "id": "5fb48b21-f4f8-4908-b094-17c4bd88fb48",
   "metadata": {},
   "outputs": [
    {
     "name": "stdout",
     "output_type": "stream",
     "text": [
      "20\n"
     ]
    }
   ],
   "source": [
    "spam = 10  # statement\n",
    "spam += 10 # expression\n",
    "print(spam)"
   ]
  },
  {
   "cell_type": "markdown",
   "id": "a614bac5-c879-4bcd-a333-ce91ed2d9a5b",
   "metadata": {},
   "source": [
    "Q6 After running the following code, what does the variable bacon contain?\n",
    "bacon = 22\n",
    "bacon + 1\n",
    "\n",
    "\n",
    "sol: after running given code output given is 23.\n",
    "     But the variable becon contains 22 as expression bacon +1 doesnot reassign the value in bacon.\n",
    "     \n",
    "     (for reassignment : bacon = bacon + 1)"
   ]
  },
  {
   "cell_type": "code",
   "execution_count": 2,
   "id": "2ed3cd72-291e-4fa9-beaa-0a73b102e8b0",
   "metadata": {},
   "outputs": [
    {
     "data": {
      "text/plain": [
       "23"
      ]
     },
     "execution_count": 2,
     "metadata": {},
     "output_type": "execute_result"
    }
   ],
   "source": [
    "bacon = 22\n",
    "bacon + 1\n"
   ]
  },
  {
   "cell_type": "code",
   "execution_count": 3,
   "id": "b8c27f0b-2c64-47b0-b37e-9939298c89e0",
   "metadata": {},
   "outputs": [
    {
     "data": {
      "text/plain": [
       "22"
      ]
     },
     "execution_count": 3,
     "metadata": {},
     "output_type": "execute_result"
    }
   ],
   "source": [
    "bacon"
   ]
  },
  {
   "cell_type": "markdown",
   "id": "8d772bdc-aff2-4689-8ddf-35ebd8c4504e",
   "metadata": {},
   "source": [
    "Q7: 7. What should the values of the following two terms be?\n",
    "'spam' + 'spamspam'\n",
    "'spam' * 3\n",
    "\n",
    "sol: Both shows same results."
   ]
  },
  {
   "cell_type": "code",
   "execution_count": 1,
   "id": "88acb279-3565-4665-9f34-bd0c70aee5fb",
   "metadata": {},
   "outputs": [
    {
     "data": {
      "text/plain": [
       "'spamspamspam'"
      ]
     },
     "execution_count": 1,
     "metadata": {},
     "output_type": "execute_result"
    }
   ],
   "source": [
    "'spam'*3"
   ]
  },
  {
   "cell_type": "code",
   "execution_count": 2,
   "id": "40d73aa3-0876-47d7-adc6-36b9e55f8c96",
   "metadata": {},
   "outputs": [
    {
     "data": {
      "text/plain": [
       "'spamspamspam'"
      ]
     },
     "execution_count": 2,
     "metadata": {},
     "output_type": "execute_result"
    }
   ],
   "source": [
    "'spam' + 'spamspam'"
   ]
  },
  {
   "cell_type": "markdown",
   "id": "6b55847b-5381-466b-a520-0463fb923fbf",
   "metadata": {},
   "source": [
    "Q8: Why is eggs a valid variable name while 100 is invalid?\n",
    "\n",
    "\n",
    "sol: we cannot assign numerical value at the begining of variable name."
   ]
  },
  {
   "cell_type": "code",
   "execution_count": 19,
   "id": "164d6663-77f0-40d9-87c8-a67b7e25c24a",
   "metadata": {},
   "outputs": [
    {
     "ename": "SyntaxError",
     "evalue": "invalid decimal literal (1131076552.py, line 2)",
     "output_type": "error",
     "traceback": [
      "\u001b[0;36m  Cell \u001b[0;32mIn [19], line 2\u001b[0;36m\u001b[0m\n\u001b[0;31m    100a = 'Apple'\u001b[0m\n\u001b[0m      ^\u001b[0m\n\u001b[0;31mSyntaxError\u001b[0m\u001b[0;31m:\u001b[0m invalid decimal literal\n"
     ]
    }
   ],
   "source": [
    "\n",
    "100a = 'Apple'\n",
    "\n",
    "print(100)\n"
   ]
  },
  {
   "cell_type": "code",
   "execution_count": 1,
   "id": "fdb833fe-0fd1-4734-adde-3a955411cb9a",
   "metadata": {},
   "outputs": [
    {
     "name": "stdout",
     "output_type": "stream",
     "text": [
      "10\n"
     ]
    }
   ],
   "source": [
    "eggs = 10\n",
    "print(eggs)"
   ]
  },
  {
   "cell_type": "markdown",
   "id": "dfba1cc4-0144-4a00-be6a-0008f8522cb1",
   "metadata": {},
   "source": [
    "Q9: What three functions can be used to get the integer, floating-point number, or string\n",
    "version of a value?\n",
    "\n",
    "sol.\n",
    "int(),\n",
    "float(),\n",
    "str()"
   ]
  },
  {
   "cell_type": "code",
   "execution_count": 2,
   "id": "58dd278a-f415-4d4b-93e4-cb7e67e17716",
   "metadata": {},
   "outputs": [
    {
     "data": {
      "text/plain": [
       "str"
      ]
     },
     "execution_count": 2,
     "metadata": {},
     "output_type": "execute_result"
    }
   ],
   "source": [
    "a=str(\"haseeb\")\n",
    "type(a)"
   ]
  },
  {
   "cell_type": "code",
   "execution_count": 25,
   "id": "35fa14b7-aa07-42a2-b484-f3cbb4688817",
   "metadata": {},
   "outputs": [
    {
     "data": {
      "text/plain": [
       "int"
      ]
     },
     "execution_count": 25,
     "metadata": {},
     "output_type": "execute_result"
    }
   ],
   "source": [
    "b = int(10)\n",
    "type(b)"
   ]
  },
  {
   "cell_type": "code",
   "execution_count": 9,
   "id": "25ddf118-f3cb-4004-bc6f-29d940d82c76",
   "metadata": {},
   "outputs": [
    {
     "data": {
      "text/plain": [
       "float"
      ]
     },
     "execution_count": 9,
     "metadata": {},
     "output_type": "execute_result"
    }
   ],
   "source": [
    "c = float(8.9)\n",
    "type(c)"
   ]
  },
  {
   "cell_type": "markdown",
   "id": "2d8f3726-052a-4592-818d-58a4b6ab2005",
   "metadata": {},
   "source": [
    "Q10: Why does this expression cause an error? How can you fix it?\n",
    "'I have eaten'  + 99 +  'burritos'\n",
    "\n",
    "sol: we can\"t add(concatenate) str and int, if we want to iradicate the error we can write 99 as'99'(i.e conversion of int into string) or str(99)\n"
   ]
  },
  {
   "cell_type": "code",
   "execution_count": 5,
   "id": "c854b508-95dc-473f-b754-2dc7efee3a66",
   "metadata": {},
   "outputs": [
    {
     "name": "stdout",
     "output_type": "stream",
     "text": [
      "I have eaten 99 burritos\n"
     ]
    }
   ],
   "source": [
    "a ='I have eaten' + ' 99' + ' burritos'\n",
    "print(a)"
   ]
  },
  {
   "cell_type": "code",
   "execution_count": 4,
   "id": "0a8df86d-639c-41bb-83e1-036642eed075",
   "metadata": {},
   "outputs": [
    {
     "name": "stdout",
     "output_type": "stream",
     "text": [
      "I have eaten 99 burritos\n"
     ]
    }
   ],
   "source": [
    "a ='I have eaten ' + str(99) + ' burritos'\n",
    "print(a)"
   ]
  },
  {
   "cell_type": "code",
   "execution_count": null,
   "id": "47fdb197-8d1f-4634-b6c1-f0d1560122f3",
   "metadata": {},
   "outputs": [],
   "source": []
  }
 ],
 "metadata": {
  "kernelspec": {
   "display_name": "Python 3 (ipykernel)",
   "language": "python",
   "name": "python3"
  },
  "language_info": {
   "codemirror_mode": {
    "name": "ipython",
    "version": 3
   },
   "file_extension": ".py",
   "mimetype": "text/x-python",
   "name": "python",
   "nbconvert_exporter": "python",
   "pygments_lexer": "ipython3",
   "version": "3.10.6"
  }
 },
 "nbformat": 4,
 "nbformat_minor": 5
}
